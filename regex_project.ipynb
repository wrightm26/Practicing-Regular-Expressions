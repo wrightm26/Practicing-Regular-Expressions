{
 "cells": [
  {
   "cell_type": "markdown",
   "id": "6d55ccdb",
   "metadata": {},
   "source": [
    "#### Regex project\n",
    "Use python to read the file regex_test.txt and print the last name on each line using regular expressions and groups (return None for names with no first and last name, or names that aren't properly capitalized)\n",
    "\n",
    "Hint: use with open() and readlines()"
   ]
  },
  {
   "cell_type": "code",
   "execution_count": 8,
   "id": "90e169bc",
   "metadata": {},
   "outputs": [],
   "source": [
    "import re"
   ]
  },
  {
   "cell_type": "code",
   "execution_count": 9,
   "id": "4b951bb1",
   "metadata": {},
   "outputs": [
    {
     "data": {
      "text/plain": [
       "'\\nExpected Output\\nAbraham Lincoln\\nAndrew P Garfield\\nConnor Milliken\\nJordan Alexander Williams\\nNone\\nNone\\n'"
      ]
     },
     "execution_count": 9,
     "metadata": {},
     "output_type": "execute_result"
    }
   ],
   "source": [
    "\"\"\"\n",
    "Expected Output\n",
    "Abraham Lincoln\n",
    "Andrew P Garfield\n",
    "Connor Milliken\n",
    "Jordan Alexander Williams\n",
    "None\n",
    "None\n",
    "\"\"\""
   ]
  },
  {
   "cell_type": "code",
   "execution_count": 10,
   "id": "9ac13636",
   "metadata": {},
   "outputs": [],
   "source": [
    "file = open('regex_test.txt')"
   ]
  },
  {
   "cell_type": "code",
   "execution_count": 11,
   "id": "25876a60",
   "metadata": {},
   "outputs": [
    {
     "data": {
      "text/plain": [
       "'Abraham Lincoln\\nAndrew P Garfield\\nConnor Milliken\\nJordan Alexander Williams\\nMadonna\\nprogramming is cool\\n'"
      ]
     },
     "execution_count": 11,
     "metadata": {},
     "output_type": "execute_result"
    }
   ],
   "source": [
    "data = file.read()\n",
    "data"
   ]
  },
  {
   "cell_type": "code",
   "execution_count": 62,
   "id": "de87c310",
   "metadata": {
    "scrolled": true
   },
   "outputs": [
    {
     "name": "stdout",
     "output_type": "stream",
     "text": [
      "Abraham Lincoln\n",
      "Connor Milliken\n",
      "Andrew P Garfield\n",
      "Jordan Alexander Williams\n"
     ]
    }
   ],
   "source": [
    "def formatted_names(names):\n",
    "    \n",
    "    #the regular expression below will only work for first and last names\n",
    "    name_pattern = re.compile(r\"\"\"\n",
    "    (?P<first>^[\\w]+)\\s\n",
    "    (?P<last>[\\w]+)$\n",
    "     \"\"\", re.M|re.X)\n",
    "    \n",
    "    #the regular expression below will only work for first middle and last names\n",
    "    names_patterns = re.compile(r\"\"\"\n",
    "    (?P<first>^[\\w]+)\\s\n",
    "    (?P<middle>[\\w]+)\\s\n",
    "    (?P<last>[\\w]+)$\n",
    "    \"\"\", re.M|re.X)\n",
    "    \n",
    "    #the upper_letter will make sure the first letter is capitalized\n",
    "    upper_letter = re.compile('[A-Z]')\n",
    "   \n",
    "    #this for loop will run all first and last names only\n",
    "    for name in name_pattern.finditer(names):\n",
    "        print(f\"{name.group('first')} {name.group('last')}\")\n",
    "        \n",
    "    #this for loop will run all first last and middle names\n",
    "    for name in names_patterns.finditer(names):\n",
    "        if upper_letter.match(name[0]):\n",
    "            print(f\"{name.group('first')} {name.group('middle')} {name.group('last')}\")\n",
    "    \n",
    " \n",
    "        \n",
    "formatted_names(data)\n"
   ]
  },
  {
   "cell_type": "code",
   "execution_count": null,
   "id": "dd5d9070",
   "metadata": {},
   "outputs": [],
   "source": []
  }
 ],
 "metadata": {
  "kernelspec": {
   "display_name": "Python 3 (ipykernel)",
   "language": "python",
   "name": "python3"
  },
  "language_info": {
   "codemirror_mode": {
    "name": "ipython",
    "version": 3
   },
   "file_extension": ".py",
   "mimetype": "text/x-python",
   "name": "python",
   "nbconvert_exporter": "python",
   "pygments_lexer": "ipython3",
   "version": "3.9.13"
  }
 },
 "nbformat": 4,
 "nbformat_minor": 5
}
